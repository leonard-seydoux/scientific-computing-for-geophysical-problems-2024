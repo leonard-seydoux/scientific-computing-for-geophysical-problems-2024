{
 "cells": [
  {
   "cell_type": "markdown",
   "id": "165105a6-ed60-4af9-998a-d3097bf2c1f0",
   "metadata": {},
   "source": [
    "$\\newcommand{\\matA}{\\mathbf A}$\n",
    "$\\newcommand{\\matW}{\\mathbf W}$\n",
    "$\\newcommand{\\vecd}{\\mathbf d}$\n",
    "$\\newcommand{\\vecr}{\\mathbf r}$\n",
    "$\\newcommand{\\vecm}{\\mathbf m}$\n",
    "$\\newcommand{\\magf}{\\mathbf B}$\n",
    "$\\newcommand{\\matD}{\\mathbf D}$\n",
    "$\\newcommand{\\glm}{g_\\ell^m}$\n",
    "$\\newcommand{\\hlm}{h_\\ell^m}$\n",
    "$\\newcommand{\\slm}{s_\\ell^m}$\n",
    "$\\newcommand{\\qlm}{q_\\ell^m}$\n",
    "$\\newcommand{\\glmd}{\\dot{g}_{\\ell}^{m}}$\n",
    "$\\newcommand{\\hlmd}{\\dot{h}_{\\ell}^{m}}$\n",
    "$\\newcommand{\\qlmd}{\\dot{q}_{\\ell}^{m}}$\n",
    "$\\newcommand{\\slmd}{\\dot{s}_{\\ell}^{m}}$\n",
    "$\\newcommand{\\plm}{{\\mathcal P}_\\ell^m}$\n",
    "$\\newcommand{\\lmax}{L}$\n",
    "$\\newcommand{\\lmaxe}{{L_e}}$\n",
    "$\\newcommand{\\mitbf}[1]{\\mathbf{#1}}$\n",
    "$\\newcommand{\\grad}{\\mitbf{\\nabla}}$"
   ]
  },
  {
   "cell_type": "markdown",
   "id": "c597b674-db6a-4ed5-b885-810af394cc1b",
   "metadata": {},
   "source": [
    "# The secular variation of the Earth's magnetic field from observatory data\n",
    "\n",
    "$\\Large{Your\\ name:\\ FirstName\\ LastName}$ \n",
    "\n",
    "## Introduction\n",
    "\n",
    "The goal of this practical is to come up with an acceptable spherical harmonic representation of the secular variation of the geomagnetic field at a given epoch, based on records from magnetic observatories. The interest of this problem is both fundamental and practical: fundamental because the secular variation reflects dynamical processes occurring inside the fluid outer core of the Earth, where the primary source of the geomagnetic field is located (the geodynamo). Practical because the knowledge of the secular variation (SV) can be used to forecast the evolution of the geomagnetic field in the near future (by means of a simple linear extrapolation). See e.g. [Alken et al. (Earth, Planets and Space, 2021)](https://earth-planets-space.springeropen.com/articles/10.1186/s40623-020-01288-x) for more details on the International Geomagnetic Reference Field. \n",
    "\n",
    " The spherical harmonic representation of the magnetic field ${\\mathbf B}$  consists of a set of\n",
    " Gauss coefficients, $(g_\\ell^m, h_\\ell^m)$ for the internal field (index $i$) and $(q_\\ell^m, s_\\ell^m)$ for the\n",
    " external field (index $e$), such that the geomagnetic potential $V$ in an insulating\n",
    " region can be written\n",
    "\\begin{eqnarray}\n",
    "V(r,\\theta,\\varphi) &=& V_i(r,\\theta,\\varphi)+V_e(r,\\theta,\\varphi) \\\\\n",
    "                    &=& a \\sum_{\\ell=1}^{L_i} \n",
    "\\left( \\frac{a}{r} \\right)^{\\ell+1}\\left\\{\n",
    "\\sum_{m=0}^{\\ell} \n",
    "\\left[\n",
    "g_\\ell^m  \\cos \\left( m \\varphi \\right)\n",
    "+ h_\\ell^m\\sin \\left(  m \\varphi\\right)\n",
    "\\right]\n",
    "{\\mathcal P}_\\ell^m \\left( \\cos \\theta \\right) \\right\\} \\\\\n",
    "&+&\n",
    " a \\sum_{\\ell=1}^{L_e}\n",
    "\\left( \\frac{r}{a} \\right)^{\\ell} \\left\\{\n",
    "\\sum_{m=0}^{\\ell} \n",
    "\\left[q_\\ell^m \\cos \\left( m \\varphi \\right) + s_\\ell^m, \\sin \\left(  m \\varphi\\right)\\right] \n",
    "{\\mathcal P}_\\ell^m \\left( \\cos \\theta \\right)\\right\\}, \\hspace{3cm} (1)\n",
    "\\end{eqnarray}\n",
    "in which $(r,\\theta,\\varphi)$ denote the standard spherical coordinates, $a$ is the mean radius of the Earth ($a=6371.2$ km), $L_i$ is the truncation of the spherical harmonic expansion of the internal sources, and $L_e$ the truncation of the expansion of the external sources. The ${\\mathcal P}_\\ell^m$ are the associated Legendre functions of degree $\\ell$ and order $m$, whose normalization is subject to the Schmidt convention  (the one traditionally used in geomagnetism).\n",
    "\n",
    " In the insulating region of interest in what follows (between the core-mantle boundary and a few tens of km above  the surface of Earth), we have\n",
    "\\begin{equation}\n",
    "\\mathbf{B} = -\\mathbf{\\nabla} V, \\mbox{ that is } X = -B_\\theta =  \\frac{1}{r}\\frac{\\partial V}{\\partial \\theta },\n",
    "                             \\quad Y = B_\\varphi = -\\frac{1}{r\\sin\\theta}\\frac{\\partial V}{\\partial \\varphi },\n",
    "                             \\quad Z = -B_r = \\frac{\\partial V}{\\partial r }, \n",
    "\\end{equation}\n",
    "where $X$, $Y$ and $Z$ denote the north, east, and vertical components of $\\mathbf{B}$, respectively.\n",
    "The time rate-of-change of $\\mathbf{B}$, $\\dot{\\mathbf{B}}$ (a dot implies derivation with respect to time), which we are intested in, is therefore controlled by the rate of change of the Gauss coefficients, denoted with $\\left(\\dot{g_\\ell^m}, \\dot{h_\\ell^m} \\right)$ and $\\left(\\dot{q_\\ell^m}, \\dot{s_\\ell^m} \\right)$  henceforth."
   ]
  },
  {
   "cell_type": "markdown",
   "id": "dc4a0cc3-5f9d-4075-87bf-d5629e68a26d",
   "metadata": {},
   "source": [
    "## Part A - The forward problem\n",
    "\n",
    "At first, we will neglect the external field and restrict our attention to a model vector consisting of the $\\left(\\dot{g_\\ell^m}, \\dot{h_\\ell^m}  \\right)$. More precisely, we define the column vector $\\mathbf{m}$\n",
    "\\begin{equation}\n",
    "\\mathbf{m} \\equiv \\left[\\dot{g}_1^0, \\dot{g}_1^1, \\dot{h}_1^1, \\dot{g}_2^0, \\dot{g}_2^1, \n",
    "                   \\dot{h}_2^1, \\dot{g}_2^2, \\dot{h}_2^2, \n",
    "                  \\dots, \\dot{g}_{L_i}^{L_i}, \\dot{h}_{L_i}^{L_i}\\right]^T,\n",
    "\\end{equation}\n",
    "in which $T$ denotes transposition.\n"
   ]
  },
  {
   "cell_type": "markdown",
   "id": "b4e82f5d-ea10-4b42-8da4-dfc9ac5b5720",
   "metadata": {},
   "source": [
    "**Question 0:** What is the size of $\\mathbf{m}$ (as a function of $L_i$)?"
   ]
  },
  {
   "cell_type": "raw",
   "id": "27a57acf-9aa8-4db7-b58a-602c2f68c077",
   "metadata": {},
   "source": [
    "your answer: \n"
   ]
  },
  {
   "cell_type": "markdown",
   "id": "15f4c328-0097-42f8-aa80-75b04eb76866",
   "metadata": {},
   "source": [
    "The forward problem here refers to the mapping between this set of coefficients and a triplet of measurements of the north, east, or vertical components of the rate-of-change of the field, $\\dot{\\mathbf{B}}$,  at a location. This can be written in the algebraic form\n",
    "\\begin{equation}\n",
    "\\left[ \n",
    "\\begin{array}{c}\n",
    "\\dot{X} \\\\\n",
    "\\dot{Y} \\\\\n",
    "\\dot{Z}\n",
    "\\end{array} \\right] \n",
    "= \n",
    "\\mathbf{A} \\mathbf{m}\n",
    "=\n",
    "\\left[ \n",
    "\\begin{array}{c}\n",
    "\\mathbf{A}_X  \\\\\n",
    "\\mathbf{A}_Y  \\\\\n",
    "\\mathbf{A}_Z\n",
    "\\end{array}\n",
    "\\right]             \\mathbf{m},  \n",
    "\\end{equation}\n",
    "where each row ($\\mathbf{A}_X$,  $\\mathbf{A}_Y$ and $\\mathbf{A}_Z$) of the matrix $\\mathbf{A}$ comprises $L_i \\left(L_i+2\\right)$ columns."
   ]
  },
  {
   "cell_type": "markdown",
   "id": "1fc2637a-3038-4a67-9d19-f7e66eb6d98c",
   "metadata": {},
   "source": [
    "The python library ${\\tt SHmag.py}$ contains a series of functions that return  ($\\mathbf{A}_X$,  $\\mathbf{A}_Y$ or $\\mathbf{A}_Z$), provided you feed them with a location in 3D space, $(r_o, \\theta_o, \\varphi_o)$ (radius in km, angles in degrees). \n",
    "For example, the piece of code below shows how the ${\\tt SHB\\_Zi}$ function can be used to map a user-defined $\\mathbf{m}$ into a global map of the SV over a regular spherical grid at radius $r=a$. "
   ]
  },
  {
   "cell_type": "code",
   "execution_count": null,
   "id": "8f045b67-59ad-40db-8b27-b7e7deb049cd",
   "metadata": {},
   "outputs": [],
   "source": [
    "#matplotlib widget \n",
    "%matplotlib inline \n",
    "#previous line to uncomment prior to exporting to pdf - make sure to rerun all cells\n",
    "import numpy as np\n",
    "from SHmag import *\n",
    "from sv_plots_cartopy import *\n",
    "#close all figures before we start\n",
    "plt.close(\"all\")\n",
    "\n",
    "#define regular grid\n",
    "#We give ourselves a regular grid over the sphere. This grid is defined for plotting purposes only\n",
    "nlon = 61 # 61 points in longitude\n",
    "nlat = 31 # 31 points in colatitude\n",
    "# \n",
    "colat = np.linspace(1., 179., nlat, endpoint=True) # we exclude the poles\n",
    "longi = np.linspace(1., 359., nlon, endpoint=True)\n",
    "\n",
    "#form 1D grid\n",
    "mygrid_colat = np.zeros(nlat*nlon, dtype=float) # \n",
    "mygrid_longi = np.zeros(nlat*nlon, dtype=float) # \n",
    "mygrid_radius = np.zeros(nlat*nlon, dtype=float) # \n",
    "for ilat in range(0,nlat):\n",
    "    for ilon in range(0,nlon):\n",
    "        igrid = ilon + ilat*nlon\n",
    "        mygrid_colat[igrid] = colat[ilat]\n",
    "        mygrid_longi[igrid] = longi[ilon]\n",
    "# Set radius of each point to earth radius \n",
    "mygrid_radius[:] = 6371.2 # in km\n",
    "#\n",
    "#assemble design matrix for Z-component\n",
    "AZ = np.zeros( (nlat*nlon, li*(li+2)), dtype=float )\n",
    "for igrid in range(0, nlat*nlon):\n",
    "    AZ[igrid,:] = SHB_Zi(mygrid_colat[igrid], mygrid_longi[igrid], mygrid_radius[igrid])\n",
    "#define example of SV\n",
    "gh = np.zeros(li*(li+2)) # initialize gh array\n",
    "lm = -1\n",
    "# gh = g10, g11, h11, g20, g21, h21,...\n",
    "for il in range(1,li+1):    # plus 1 to include ll\n",
    "    for im in range(0,il+1): # plus 1 to include il \n",
    "#       print(il, im)\n",
    "        if im == 0:\n",
    "            lm = lm+1\n",
    "            if il == 1:\n",
    "                gh[lm] = -10.0     # axial dipole l = 1, m =0, lm=0\n",
    "        elif im > 0:\n",
    "            lm = lm+1\n",
    "#           the g\n",
    "            if il == 2 and im == 1: # \n",
    "                gh[lm] = -4.0      # quadrupole, l =2, m = 1, (lm=4)\n",
    "            lm = lm+1\n",
    "#           the h\n",
    "            if il == 1 and im == 1: # equatorial dipole  l=1, m=1\n",
    "                gh[lm] = -4.0\n",
    "            if il == 5 and im == 5:\n",
    "                gh[lm] = 3.             # sectoral harmonic l=5, m=5\n",
    "#\n",
    "#compute value of SV (Z component) on regular grid\n",
    "SVZ = np.zeros( nlat*nlon ) # initialization \n",
    "\n",
    "#Compute A times m\n",
    "SVZ = np.dot(AZ, gh)\n",
    "\n",
    "hammer_plot(SVZ, nlat, nlon, colat, longi, Title=\"Example of synthetic SV, $Z$-component\")"
   ]
  },
  {
   "cell_type": "markdown",
   "id": "e11ad8f7-b1bc-439c-a281-c8f00a7d6f44",
   "metadata": {},
   "source": [
    "**Question 1:** \n",
    "In the box below, insert a piece of code that plots $\\dot{X}$ at the surface of the Earth for the same model vector $\\mathbf{m}$. "
   ]
  },
  {
   "cell_type": "code",
   "execution_count": null,
   "id": "c191abdc-9d81-44b2-ab30-0c592fb56ce9",
   "metadata": {},
   "outputs": [],
   "source": [
    "#Your code below"
   ]
  },
  {
   "cell_type": "markdown",
   "id": "5dafb3b2-7135-4a07-a145-f370c9df000f",
   "metadata": {},
   "source": [
    "**Question 2:** \n",
    "In the box below, insert a piece of code that plots $\\dot{X}$ at the surface of the core for the same $\\mathbf{m}$ (take the radius of the core equal to $3485$ km)"
   ]
  },
  {
   "cell_type": "code",
   "execution_count": null,
   "id": "22048809-b988-45a2-8333-af50967b9e18",
   "metadata": {},
   "outputs": [],
   "source": [
    "#Your code below"
   ]
  },
  {
   "cell_type": "markdown",
   "id": "97b09bdb-580a-46f1-b717-6b1ce190f111",
   "metadata": {},
   "source": [
    "**Question 3:** \n",
    "What do you observe? "
   ]
  },
  {
   "cell_type": "markdown",
   "id": "4d1cf62a-bdfb-4419-a4e3-8042c89bb2a3",
   "metadata": {},
   "source": [
    "Your answer: "
   ]
  },
  {
   "cell_type": "markdown",
   "id": "fd0bb213-016a-4724-90a8-a74f74e011ed",
   "metadata": {},
   "source": [
    "**Question 4:** \n",
    "In the box below, insert a piece of code that plots $\\dot{X}$, $\\dot{Y}$ and $\\dot{Z}$ at the surface of the Earth for an axial quadrupole $\\dot{g}_2^0=-3$ nT/yr (all other coefficients being $0$).\n",
    "We will refer to this model vector $\\mathbf{m}$ as $\\mathbf{m}_g$ in the following.\n",
    "The function ${\\tt hammer\\_plot\\_3}$ located in ${\\tt sv\\_plots\\_cartopy.py}$ may prove useful for that task. "
   ]
  },
  {
   "cell_type": "code",
   "execution_count": null,
   "id": "7315eeb2-c190-4af3-896f-8d870b0bf996",
   "metadata": {},
   "outputs": [],
   "source": [
    "#Your code below"
   ]
  },
  {
   "cell_type": "markdown",
   "id": "22d61b10-1194-4c72-9945-e594f6ecaa13",
   "metadata": {},
   "source": [
    "## Part B - The data\n",
    "\n",
    "The monthly values of $\\dot{X}$, $\\dot{Y}$ and $\\dot{Z}$ have been compiled by Ingo Wardinski (Ingo Wardinski, Vincent Lesur, An extended version of the C3FM geomagnetic field model: application of a continuous frozen-flux constraint, Geophysical Journal International, Volume 189, Issue 3, June 2012, Pages 1409–1429, https://doi.org/10.1111/j.1365-246X.2012.05384.x) for a number of observatories, between years 1957 and 2013 (approximately). The figure below shows the location of these observatories at the surface of the globe. \n",
    "\n",
    "Not all observatories have continuous records; some records are actually very sparse in time. Two files\n",
    " are of interest: \n",
    " \n",
    "* the file ${\\tt obs\\_list.txt}$ which contains information on the observatories "
   ]
  },
  {
   "cell_type": "markdown",
   "id": "0727e3dc-1878-4745-b438-24c4ff9653aa",
   "metadata": {},
   "source": [
    "~~~~\n",
    "# index code colatitude longitude radius \n",
    "1 TKH 9.7641196848179366 52.799999999999997 6357.3740655748843\n",
    "~~~~"
   ]
  },
  {
   "cell_type": "markdown",
   "id": "6435f649-ff55-4f53-acd9-a166ad0d2bd6",
   "metadata": {},
   "source": [
    "index is an integer associated with the observatory, code is a 3-letter code, and the other 3 are the observatory spherical coordinates (angles in degree)\n",
    "\n",
    "* the file ${\\tt monthlymean\\_SV\\_obs.in}$ which contains the records themselves, for all observatories"
   ]
  },
  {
   "cell_type": "markdown",
   "id": "5501b988-97ef-4030-8de1-9e5cb72cd28b",
   "metadata": {},
   "source": [
    "~~~~\n",
    "#iobs,time,colat,lon,rad,SVX,SVY,SVZ\n",
    "########       \n",
    "1 0.1957000000E+04 0.9764119685E+01 0.5280000000E+02 0.6357374066E+04 -0.1000000000E+02 0.7000000000E+01 0.2200000000E+02\n",
    "~~~~"
   ]
  },
  {
   "cell_type": "markdown",
   "id": "25d53b97-644f-484d-a260-475e1793c2e3",
   "metadata": {},
   "source": [
    "The first column is the observatory index, the second column is the epoch in years, the third, fourth and fifth are $(\\theta, \\varphi, r)$ for the observatory, followed by $\\dot{X}$, $\\dot{Y}$, and $\\dot{Z}$ at that time and at the observatory.\n",
    "\n",
    "The piece of code below shows how one can interrogate the database. "
   ]
  },
  {
   "cell_type": "code",
   "execution_count": null,
   "id": "5d433ebe-b983-4a4c-8c50-72909df8bfe9",
   "metadata": {},
   "outputs": [],
   "source": [
    "# read in obs_list.txt\n",
    "fname = './obs_list.txt'\n",
    "observatories = np.loadtxt(fname, dtype=[('number', int),  ('code', '|S3'),('lat', float),('lon', float), ('radius', float)], usecols = (0, 1, 2, 3, 4), unpack=True)\n",
    "\n",
    "obs_indx = observatories[0]\n",
    "obs_code = observatories[1].astype(str)\n",
    "obs_colat = observatories[2]\n",
    "obs_lat = 90. - obs_colat\n",
    "obs_lon = observatories[3]\n",
    "obs_rad = observatories[4]\n",
    "\n",
    "# read in obs_list.txt\n",
    "fname = './monthlymean_SV_obs.in'\n",
    "svdata = np.loadtxt(fname)\n",
    "iobs = svdata[:,0].astype(int) # the obs_index read above \n",
    "year = svdata[:,1] # the epoch in year\n",
    "svxall = svdata[:, 5]\n",
    "svyall = svdata[:, 6]\n",
    "svzall = svdata[:, 7]\n",
    "#\n",
    "#Some examples of data selection and extraction \n",
    "\"\"\"\n",
    "  Example 1: I want to extract those observatories which are\n",
    "              located between 0 deg east and 40 deg east in longitude\n",
    "\"\"\"\n",
    "# I define a mask that enforces this condition\n",
    "mask = (obs_lon  > 0.) * (obs_lon  < 40.)\n",
    "# I mask the original array of indices to extract the indices of those observatories meeting this condition \n",
    "my_obs_indx = obs_indx[mask]\n",
    "print ('number of obs whose long is > 0 and < 40 deg: ',  np.size(my_obs_indx))\n",
    "my_obs_code = obs_code[mask]\n",
    "print ('3 code letter of these observatories: \\n',  my_obs_code[:])\n",
    "\n",
    "# Let's plot them quickly \n",
    "# get first their coordinates\n",
    "my_obs_lon = obs_lon[mask]\n",
    "my_obs_lat = obs_lat[mask]\n",
    "\n",
    "# code to plot below\n",
    "import cartopy.crs as crs\n",
    "import cartopy.feature as cfeature\n",
    "fig = plt.figure()\n",
    "central_long = 0 # central longitude in degrees East\n",
    "ax = plt.axes( projection = ccrs.Hammer(central_longitude=central_long) )\n",
    "ax.set_global()\n",
    "#Uncomment below to add ocean and topography\n",
    "ax.stock_img() \n",
    "ax.add_feature(cfeature.COASTLINE, edgecolor=\"k\")\n",
    "ax.add_feature(cfeature.BORDERS, edgecolor=\"k\") \n",
    "ax.add_feature(cfeature.RIVERS, edgecolor=\"blue\") # add rivers\n",
    "ax.gridlines()\n",
    "ax.scatter( x=my_obs_lon, y=my_obs_lat, marker='d', s=10, color='r', alpha=1., transform = crs.PlateCarree())\n",
    "for i in range(len(my_obs_code)): \n",
    "    ax.text(my_obs_lon[i], my_obs_lat[i], my_obs_code[i], color='k', fontsize=10, horizontalalignment=\"right\", verticalalignment=\"top\",transform=crs.PlateCarree())\n",
    "plt.show()"
   ]
  },
  {
   "cell_type": "code",
   "execution_count": null,
   "id": "bae1b45c-4775-42dd-a780-fcdb3eb890ca",
   "metadata": {},
   "outputs": [],
   "source": [
    "\"\"\"\n",
    "  Example 2: I select observatory 'NGK' (Niemegk, Germany) and I plot the record of the secular variation of the Y component at this observatory\n",
    "\"\"\"\n",
    "mask = (obs_code == 'NGK')\n",
    "print ('NGK index is', obs_indx[mask]) # this is the index corresponding to NGK\n",
    "# \n",
    "mask_svdata = ( iobs == obs_indx[mask] )\n",
    "# extract the epochs and svy data corresponding to this index\n",
    "my_epochs = year[mask_svdata]\n",
    "my_svy = svyall[mask_svdata]\n",
    "print ('size of the data vector :', np.size(my_svy))\n",
    "# quick plot\n",
    "fig = plt.figure()\n",
    "ax = fig.add_subplot(111)\n",
    "ax.scatter(my_epochs, my_svy, s=3)\n",
    "ax.grid()\n",
    "ax.set_xlabel('epoch (yr)')\n",
    "ax.set_ylabel('dY/dt (nT/yr)')\n",
    "#uncomment to see the plot\n",
    "plt.show()"
   ]
  },
  {
   "cell_type": "markdown",
   "id": "c54efc47-7a92-439a-bb74-6b9e3f40d3cc",
   "metadata": {},
   "source": [
    "As an aside: these abrupt changes in the slope of the secular variation are referred to as **geomagnetic jerks**. They are likely connected with hydromagnetic waves breaking at Earth's core surface. "
   ]
  },
  {
   "cell_type": "code",
   "execution_count": null,
   "id": "4cd95809-7215-4f76-aee3-c1801a27704e",
   "metadata": {},
   "outputs": [],
   "source": [
    "\"\"\"\n",
    "  Example 3: I collect all the data from 1974.67 \\pm 1 week \n",
    "\"\"\"\n",
    "mask_svdata = ( np.abs(1974.67 - year) < 1./52. )\n",
    "# extract observatory indices\n",
    "my_iobs = iobs[mask_svdata]\n",
    "print(my_iobs)\n",
    "# how many observatories have data for that epoch? \n",
    "print (' for this epoch ', np.size(my_iobs), ' observatories have delivered data')\n",
    "# here are their 3-letter codes\n",
    "print ('their codes are \\n', obs_code[my_iobs-1]) # because indexing starts at 0 in python\n",
    "# assemble data vector\n",
    "my_svx = svxall[mask_svdata]\n",
    "my_svy = svyall[mask_svdata]\n",
    "my_svz = svzall[mask_svdata]\n",
    "my_data = np.vstack((my_svx, my_svy, my_svz))\n",
    "my_data = np.resize(my_data, np.size(my_data))\n",
    "print ('the size of the complete vector of data for epoch 1974.67 plus minus 1 week is ', np.size(my_data))\n"
   ]
  },
  {
   "cell_type": "markdown",
   "id": "39d0cc91-efc8-427e-b6ac-da0ffe6c9f39",
   "metadata": {},
   "source": [
    "Use these examples to write your own code to answer the following questions: \n",
    "\n",
    "**Question 5:** What is the total number of observatories in the database?"
   ]
  },
  {
   "cell_type": "code",
   "execution_count": null,
   "id": "b7a0e75b-cb5d-4f3c-9142-b64347564b17",
   "metadata": {},
   "outputs": [],
   "source": [
    " #Your code and answer below\n",
    "    "
   ]
  },
  {
   "cell_type": "markdown",
   "id": "d957d680-1cbe-4c93-a030-b1e7fd2cf32f",
   "metadata": {},
   "source": [
    "**Question 6:** What is the 3-letter code of the observatory labelled with integer 42? Where is this observatory located?"
   ]
  },
  {
   "cell_type": "code",
   "execution_count": null,
   "id": "76a76da1-14a4-4f71-8334-56ed398a0063",
   "metadata": {},
   "outputs": [],
   "source": [
    " #Your code and answer below\n",
    "    "
   ]
  },
  {
   "cell_type": "markdown",
   "id": "ee165e73-c3b1-406d-ac35-729cb66d396d",
   "metadata": {},
   "source": [
    "**Question 7:** What is the code and the location of the observatory for which the smallest number of data is available? There may be several such observatories. "
   ]
  },
  {
   "cell_type": "code",
   "execution_count": null,
   "id": "b5ce1ddf-863c-4aa5-a711-cd3d7027b722",
   "metadata": {},
   "outputs": [],
   "source": [
    " #Your code and answer below\n",
    "    "
   ]
  },
  {
   "cell_type": "markdown",
   "id": "7103831c-a6fb-4dfd-bf40-9645a4d62db7",
   "metadata": {},
   "source": [
    "**Question 8:** Same for the observatory with the largest number of data? If there are several such observatories, pick one and write a script that will plot $\\dot{X}$, $\\dot{Y}$, and $\\dot{Z}$ for that observatory versus time."
   ]
  },
  {
   "cell_type": "code",
   "execution_count": null,
   "id": "ffa5f3d3-d606-4aea-9f22-4ec12c035ac5",
   "metadata": {},
   "outputs": [],
   "source": [
    " #Your code and answer below\n",
    "    "
   ]
  },
  {
   "cell_type": "markdown",
   "id": "53822539-6767-41bb-9798-1f44a26fc71d",
   "metadata": {},
   "source": [
    "## PART C - The inverse problem and its least-squares solution\n",
    "\n",
    "This is a very practical application of inverse problem theory to geomagnetism. \n",
    "We assign to each student a different epoch, according to the following mapping"
   ]
  },
  {
   "cell_type": "markdown",
   "id": "5677829c-f3f3-4a6b-80bf-22117da3a20e",
   "metadata": {},
   "source": [
    "~~~~\n",
    "BRABANT Ambre         1967.0\n",
    "BRISOT Agathe         1969.0\n",
    "DENISE Emile          1972.0\n",
    "DEVAPRIYAN Devapriyan 1975.0\n",
    "DUBOIS Zoé            1978.0\n",
    "JAAH Ilyas            1981.0\n",
    "KHANNA Jhanvee        1984.0\n",
    "LECOCQ Matthieu       1987.0\n",
    "LI Dingyan            1990.0\n",
    "MAILLE-OKADA Naossa   1993.0\n",
    "MALLET Léo            1996.0\n",
    "MARCK Angélique       1999.0\n",
    "PERROT Théo           2003.0\n",
    "ZHANG Yanyu           2007.0                             \n",
    "~~~~"
   ]
  },
  {
   "cell_type": "markdown",
   "id": "a80eea2e-ce2c-4c84-a563-20b55c88ce21",
   "metadata": {},
   "source": [
    "Given the epoch you are in charge of, and the corresponding vector $\\mathbf{d}$, your goal is first to seek the optimal model $\\mathbf{m}$ that will minimize the quadratic functional\n",
    "\\begin{equation}\n",
    "{\\mathcal J}(\\mathbf{m}) = (\\mathbf{d}-\\mathbf{A}\\mathbf{m})^T \\mathbf{W} (\\mathbf{d}-\\mathbf{A}\\mathbf{m}), \n",
    "\\end{equation}\n",
    "that quantifies the departure from predictions made with the model from the actual observations. \n",
    "\n",
    "The $\\mathbf{W}$ matrix is a weight matrix reflecting the uncertainties affecting each datum. $\\mathbf{W}$ can be defined using the ${\\tt WW}$ function of the ${\\tt SHmag.py}$ module written by Vincent Lesur. This matrix is diagonal and each of its diagonal element is equal to $1/\\sigma^2$ where $\\sigma$ is the standard deviation reflecting the uncertainty in the datum (its variance is therefore equal to $\\sigma^2$). For a start, we will take the same value for each datum, $\\sigma=1$ nT/yr."
   ]
  },
  {
   "cell_type": "markdown",
   "id": "08407149-0009-4f9e-833a-9c751a47e05c",
   "metadata": {},
   "source": [
    "### C-1 A first guess\n",
    "\n",
    "**Question 9:** Assemble the data vector $\\mathbf{d}$ for the epoch you are in charge of. What is its size?"
   ]
  },
  {
   "cell_type": "code",
   "execution_count": null,
   "id": "b682061e-bbd1-44b8-bd64-fc3f51c02271",
   "metadata": {},
   "outputs": [],
   "source": [
    " #Your code and answer below\n",
    "    "
   ]
  },
  {
   "cell_type": "markdown",
   "id": "2e7f8bf9-83dd-4616-bbd7-557b6ca5ba40",
   "metadata": {},
   "source": [
    "**Question 10: (a long one)** Write a code that generates the $\\mathbf{A}$ matrix needed to evaluate ${\\mathcal J}(\\mathbf{m})$. Note that this matrix is not the one you generated above for plotting purposes. This matrix allows you to predict the value of $\\dot{X},\\dot{Y}, \\dot{Z}$ at each observatory where you have data available. Therefore, to assemble it, you must feed the routines ${\\tt SHB\\_Xi}$, ${\\tt SHB\\_Yi}$ and ${\\tt SHB\\_Zi}$ with the coordinates of the observatories. Use this $\\mathbf{A}$ matrix and a guess consisting of the $\\mathbf{m}_g$ introduced in question 4 above (the axial quadrupole) to compute the value of ${\\mathcal J}(\\mathbf{m}_g)$.\n"
   ]
  },
  {
   "cell_type": "code",
   "execution_count": null,
   "id": "21a791b9-39d0-4eb3-bbf1-5e4b7ddf35a8",
   "metadata": {},
   "outputs": [],
   "source": [
    " #Your code and answer below\n",
    "    "
   ]
  },
  {
   "cell_type": "markdown",
   "id": "557e7207-ed59-4cbf-8e4a-5cd88ffdd32b",
   "metadata": {},
   "source": [
    "The vector of residuals $\\mathbf{r}$ is defined as\n",
    "\\begin{equation}\n",
    "\\mathbf{r} = \\mathbf{d}-\\mathbf{A}\\mathbf{m}, \n",
    "\\end{equation}\n",
    "The inspection of the properties of the residuals is key to a proper understanding of the success (or failure) of your solution to an inverse problem."
   ]
  },
  {
   "cell_type": "markdown",
   "id": "614a8ac1-0712-4115-a99f-d1c8ddbb6b4f",
   "metadata": {},
   "source": [
    "**Question 11:** About residuals. Write a code that allows you to \n",
    "\n",
    "1. compute $\\mathbf{r}$ for $\\mathbf{m}=\\mathbf{m}_g$\n",
    "\n",
    "2. analyze the distribution of residuals for the 3 components taken together (using the ${\\tt plot\\_residuals}$ function in ${\\tt sv\\_plots\\_cartopy.py}$\n",
    "\n",
    "3. analyze their distribution component by component (looking at $\\dot{X}$, $\\dot{Y}$ and $\\dot{Z}$ separately). You can make use of the same plotting routine."
   ]
  },
  {
   "cell_type": "code",
   "execution_count": null,
   "id": "7fd7ebea-9b65-4cd4-8288-072ff534dca6",
   "metadata": {},
   "outputs": [],
   "source": [
    " #Your code and answer below\n",
    "    "
   ]
  },
  {
   "cell_type": "markdown",
   "id": "42b2d9a7-31d8-431d-a7d6-1ebd75e0fdc2",
   "metadata": {},
   "source": [
    "### C-2 The least-squares solution\n",
    "\n",
    "#### The no-brain, no-headache approach\n",
    "\n",
    "The optimal model $\\widehat{\\mathbf{m}}$ is the one satisfying\n",
    "\\begin{equation}\n",
    "\\left.\n",
    "\\frac{\\partial {\\mathcal J}}{\\partial \\mathbf{m}}\n",
    "\\right|_{\\mathbf{m}=\\widehat{\\mathbf{m}}} = 0. \n",
    "\\end{equation}\n"
   ]
  },
  {
   "cell_type": "markdown",
   "id": "732ec082-6428-4007-99f2-fd24d81b41f7",
   "metadata": {},
   "source": [
    "**Question 12:** We take the truncation for the internal field equal to $L_i=8$. Is the problem you are looking at over-determined or under-determined?\n",
    "      If it is under-determined, change your reference epoch by a few weeks in order to collect more data."
   ]
  },
  {
   "cell_type": "raw",
   "id": "f7205567-1ad0-4a86-80d8-63cde4e8ab34",
   "metadata": {},
   "source": [
    "Your answer in raw text here. "
   ]
  },
  {
   "cell_type": "markdown",
   "id": "bd3d0a34-973d-4320-8346-2302060d6215",
   "metadata": {},
   "source": [
    "**Question 13**: Derive the algebraic expression of $\\widehat{\\mathbf{m}}$."
   ]
  },
  {
   "cell_type": "markdown",
   "id": "22396fa2-4225-4d6e-9483-cade78f49b77",
   "metadata": {},
   "source": [
    "Your answer here. You can scan handwritten notes and insert them below\n",
    "<img src=\"the_name_of_your_png_file\" style=\"width:800px;height:300px;\">"
   ]
  },
  {
   "cell_type": "markdown",
   "id": "9fd419cb-05c5-445a-b9f5-f98a0d71dcdd",
   "metadata": {},
   "source": [
    "**Question 14**: Write a python script that computes $\\widehat{\\mathbf{m}}$. Compute the value of $\\mathcal{J}(\\widehat{\\mathbf{m}})$. \n"
   ]
  },
  {
   "cell_type": "code",
   "execution_count": null,
   "id": "b6fc8e97-b34b-49bf-ab32-bc19a3515925",
   "metadata": {},
   "outputs": [],
   "source": [
    " #Your code and answer below\n",
    "    "
   ]
  },
  {
   "cell_type": "markdown",
   "id": "2bfda272-a844-4233-857e-4843b84e110b",
   "metadata": {},
   "source": [
    "**Question 15:** Based on the set of example codes that you already wrote and executed, plot the corresponding $\\dot{Z}$ at the surface of the Earth and at the surface of the core ($r=3485$ km)."
   ]
  },
  {
   "cell_type": "code",
   "execution_count": null,
   "id": "1d4fd32d-3e4d-41c8-9e96-655e63a8a907",
   "metadata": {},
   "outputs": [],
   "source": [
    "#Your code and answer below\n",
    "    "
   ]
  },
  {
   "cell_type": "markdown",
   "id": "4f4eb926-0c0d-4983-99fa-78601ca1c335",
   "metadata": {},
   "source": [
    "**Question 16:** Comment on the aspects of  $\\dot{Z}$ at the surface of the core."
   ]
  },
  {
   "cell_type": "markdown",
   "id": "8a571892-23c8-4370-8004-bf22f351ef59",
   "metadata": {},
   "source": [
    "Your answer here"
   ]
  },
  {
   "cell_type": "markdown",
   "id": "7a8557a6-aab1-4c87-b597-651f79a75ec1",
   "metadata": {},
   "source": [
    "**Question 17:** Compute the residuals and analyze their distribution, on a component-by-component basis $(\\dot{X}, \\dot{Y}, \\dot{Z})$. Which component appears to be the most challenging to model using our current strategy?"
   ]
  },
  {
   "cell_type": "code",
   "execution_count": null,
   "id": "9706e051-45ac-4a84-918b-a99ab2dda195",
   "metadata": {},
   "outputs": [],
   "source": [
    "#Your code and answer below\n",
    "    "
   ]
  },
  {
   "cell_type": "markdown",
   "id": "9b3c5f6e-605d-482e-a8f3-273c704e9720",
   "metadata": {},
   "source": [
    "#### The regularized approach\n",
    "\n",
    "We now seek a regularized solution to the problem at hand. This is a standard approach followed in geophysical inverse problems. \n",
    "\n",
    "The squared norm (I shall omit the \"squared\" in the remainder of this document unless otherwise noted) of the Secular Variation over a sphere of radius $r$, $S(r)$, is defined as \n",
    "\\begin{equation}\n",
    "\\mbox{norm} = R = \\int_{S(r)} \\left\\|\\dot{\\mathbf{B}}\\right\\|^2 {\\mathrm d} \\Omega\n",
    "\\end{equation}\n",
    "\n",
    "This quantity can be conveniently expressed using the Gauss coefficients (e.g. Backus, Parker, Constable, Foundations of Geomagnetism, Cambridge University Press, 1996, ISBN 9780521410069) \n",
    "\\begin{equation}\n",
    "\\mbox{norm} = R = \\sum_{\\ell} \\left( \\ell+1\\right) \\left(\\frac{a}{r} \\right)^{2\\ell+4} \\sum_{m=0}^{\\ell}\n",
    "              \\left[\\left(\\dot{g}_\\ell^m\\right)^2+\\left(\\dot{h_\\ell^m}\\right)^2\\right]\n",
    "\\end{equation}\n",
    "Therefore, the total norm is the sum of the norm of\n",
    " each spherical harmonic component\n",
    "\\begin{equation}\n",
    "R  = \\sum_{\\ell} R_{\\ell}, \\mbox{ where}\n",
    "\\end{equation}\n",
    "\\begin{equation}\n",
    "\\mbox{R}_{\\ell} = \\left( \\ell+1\\right) \\left(\\frac{a}{r} \\right)^{2\\ell+4} \\sum_{m=0}^{\\ell}\n",
    "               \\left[\\left(\\dot{g}_\\ell^m\\right)^2+\\left(\\dot{h_\\ell^m}\\right)^2\\right]\n",
    "\\end{equation}\n",
    "In algebraic form, this can be written\n",
    "\\begin{equation}\n",
    "\\mbox{norm} = \\mathbf{m}^T \\mathbf{D} \\mathbf{m}, \n",
    "\\end{equation}\n",
    "in which $\\mathbf{D}$ is the matrix returned by the ${\\tt DD}$ function of ${\\tt SHmag.py}$. Here \"$\\mathbf{D}$\" stands for damping. The function ${\\tt DD}$ expects two arguments: the size of $\\mathbf{m}$ (number of parameters) and the radius $r$ where the norm is to be computed (in km).\n",
    "\n",
    "To regularize the solution we seek, we add a second term (a damping term) to the definition of the objective function\n",
    "\\begin{equation}\n",
    "{\\mathcal J}(\\mathbf{m}) = (\\mathbf{d}-\\mathbf{A}\\mathbf{m})^T \\mathbf{W} (\\mathbf{d}-\\mathbf{A}\\mathbf{m}) + \\lambda \\mathbf{m}^T \\mathbf{D} \\mathbf{m}, \n",
    "\\tag{2}\n",
    "\\end{equation}\n",
    "where  we see that the amount of regularization is controlled by the amplitude of the $\\lambda$ scalar, which is $\\ge 0$. In the following we will regularize our model of the SV either at the Earth's surface ($r=a=6371.2$ km when defining $\\mathbf{D}$) or at the core-mantle boundary ($r=3485$ km).\n",
    "\n"
   ]
  },
  {
   "cell_type": "markdown",
   "id": "db964169-8b95-4a72-9de6-f3e2c5cc337e",
   "metadata": {},
   "source": [
    "**Question 18:** Compute the norm of your previous optimal solution from question 14, $\\widehat{\\mathbf{m}}$, at the surface of the Earth and at the surface of the core. Do not forget the units when providing the two answers. "
   ]
  },
  {
   "cell_type": "code",
   "execution_count": null,
   "id": "eadfd917-ddc8-4bd0-9b7f-db47af40f58e",
   "metadata": {},
   "outputs": [],
   "source": [
    "#Your code and answer below\n",
    "    "
   ]
  },
  {
   "cell_type": "markdown",
   "id": "628a8cc2-a239-4426-af77-01bbf6dd888f",
   "metadata": {},
   "source": [
    "**Question 19:** Derive the algebraic expression of the new optimal $\\mathbf{m}$,  corresponding to the objective function defined in Equation (2). "
   ]
  },
  {
   "cell_type": "markdown",
   "id": "9eff89eb-537d-47c6-b00f-853884c4e428",
   "metadata": {},
   "source": [
    "Your answer here. You can scan handwritten notes and insert them below\n",
    "<img src=\"the_name_of_your_png_file\" style=\"width:800px;height:300px;\">"
   ]
  },
  {
   "cell_type": "markdown",
   "id": "d9dc5201-eb94-4395-a5aa-24d372a0b2b9",
   "metadata": {},
   "source": [
    "**Question 20:** Write a python function that computes and returns this new optimum, for an arbitrary value of $\\lambda$, and an arbitrary radius of regularization."
   ]
  },
  {
   "cell_type": "code",
   "execution_count": null,
   "id": "91a72661-ed89-41c9-8331-d5e78dc169e6",
   "metadata": {},
   "outputs": [],
   "source": [
    "#Your code below\n",
    "def my_new_optimum( lambda_reg, radius_reg):\n",
    "# ...\n",
    "# do your things\n",
    "#...\n",
    "    mhat_reg = something \n",
    "    return mhat_reg"
   ]
  },
  {
   "cell_type": "markdown",
   "id": "3e0d9b66-bb8b-4662-9639-b4b573d97f9d",
   "metadata": {},
   "source": [
    "Now raise your hand and call an instructor for further instructions. You are about to plot a so-called trade-off (also called L) curve. For each $\\lambda$, one gets an optimal $\\widehat{\\mathbf{m}}(\\lambda)$ which can be characterized by a value of the misfit to the data\n",
    "\\begin{equation}\n",
    "\\mbox{misfit }(\\lambda)= [\\mathbf{d}-\\mathbf{A}\\widehat{\\mathbf{m}}(\\lambda)]^T \\mathbf{W} [\\mathbf{d}-\\mathbf{A}\\widehat{\\mathbf{m}}(\\lambda)]\n",
    "\\end{equation}\n",
    "and a value of the norm\n",
    "\\begin{equation}\n",
    "\\mbox{norm } (\\lambda)= \\widehat{\\mathbf{m}}(\\lambda)^T \\mathbf{D} \\widehat{\\mathbf{m}}(\\lambda).\n",
    "\\end{equation}\n",
    "\n",
    "By plotting norm vs misfit for different values of $\\lambda$, you will obtain a curve that is called the trade-off curve and may look like the one shown below (in this case the norm is computed at the surface of the Earth). For illustration, the figure to the right shows the various spectra obtained for the various solutions ($R_\\ell$ as defined above, as a function of $\\ell$).\n",
    "<img src=\"lcurve.png\">\n"
   ]
  },
  {
   "cell_type": "markdown",
   "id": "49821e09-8c1d-4727-bb4e-f5f3cc54c962",
   "metadata": {},
   "source": [
    "**Question 21**: Plot the L-curve that corresponds to the models obtained for your dataset, and the spectra obtained at the surface of Earth for some values of $\\lambda$."
   ]
  },
  {
   "cell_type": "code",
   "execution_count": null,
   "id": "e24b4ab7-c33c-4a35-9fc4-80ea4943506c",
   "metadata": {},
   "outputs": [],
   "source": [
    "#Your code and answer below\n",
    "    "
   ]
  },
  {
   "cell_type": "markdown",
   "id": "820be4df-7524-452b-b4e1-efcd773c1117",
   "metadata": {},
   "source": [
    "**Question 22**: Traditionally, one chooses as a best model the best compromise between misfit and complexity (norm), by picking the $\\lambda$ corresponding to the knee of the curve. Compute and represent the Z-component of the secular variation obtained with this model at the surface of the Earth and the surface of the core,  when the regularization is performed (ie the norm is computed) at the surface of the Earth. Is the distribution of residuals markedly different from the one you obtained in **Question 11** ?"
   ]
  },
  {
   "cell_type": "code",
   "execution_count": null,
   "id": "b3e0e8b5-4be2-47ef-a0e3-1ed2d6fc421e",
   "metadata": {},
   "outputs": [],
   "source": [
    "#Your code and answer below\n",
    "    "
   ]
  },
  {
   "cell_type": "markdown",
   "id": "94549ed8-0995-43c2-b07d-3e2980f94227",
   "metadata": {},
   "source": [
    "**Question 23**: Plot the spectrum of your preferred solution at the surface of the Earth."
   ]
  },
  {
   "cell_type": "code",
   "execution_count": null,
   "id": "e9833024-bf93-4446-8008-c4538b95a338",
   "metadata": {},
   "outputs": [],
   "source": [
    "#Your code and answer below\n",
    "    "
   ]
  },
  {
   "cell_type": "markdown",
   "id": "0434127d-7751-4b5d-a02a-2a17af6f2d66",
   "metadata": {},
   "source": [
    "**Question 24**: Repeat this exercise when the regularization is performed at the surface of the core ($r=3485$ km) or, in other words, when the matrix $\\mathbf{D}$ entering the objective function is computed for $r=3485$ km. How is the spectrum of your preferred model different from the one obtained above? Propose an interpretation for the differences.\n"
   ]
  },
  {
   "cell_type": "code",
   "execution_count": null,
   "id": "ea7c2e4e-9af8-4c84-a09d-dc3160b02711",
   "metadata": {},
   "outputs": [],
   "source": [
    "#Your code and answer below\n",
    "    "
   ]
  },
  {
   "cell_type": "markdown",
   "id": "fb6b900e-584b-4f06-969e-8c24d3e84074",
   "metadata": {},
   "source": [
    "## Part D - Adding the external field\n",
    "\n",
    "A possibility to obtain a better fit to the data consists of adding the contribution of the external geomagnetic field to the secular variation, recall Equation (1) above. The module ${\\tt SHmag.py}$ allows you to resort to a model vector of the form\n",
    "\\begin{equation}\n",
    "\\mathbf{m} \\equiv \\left[\\dot{g}_1^0, \\dot{g}_1^1, \\dot{h}_1^1, \\dot{g}_2^0, \\dot{g}_2^1, \n",
    "                   \\dot{h}_2^1, \\dot{g}_2^2, \\dot{h}_2^2, \n",
    "                  \\dots, \\dot{g}_{L_i}^{L_i}, \\dot{h}_{L_i}^{L_i}, \n",
    "                  \\dot{q}_1^0, \\dot{q}_1^1, \\dot{s}_1^1, \\dot{q}_2^0, \\dot{q}_2^1, \n",
    "                   \\dot{s}_2^1, \\dot{q}_2^2, \\dot{s}_2^2, \n",
    "                  \\dots, \\dot{q}_{L_e}^{L_e}, \\dot{s}_{L_e}^{L_e}\n",
    "               \\right]^T. \n",
    "\\end{equation}\n",
    "\n",
    "The functions ${\\tt SHB\\_Xe}$, ${\\tt SHB\\_Ye}$ and ${\\tt SHB\\_Ze}$ can be used to compute the $X$, $Y$ and $Z$ components due to the external field coefficients that are now part of the \n",
    "augmented model vector. \n",
    "\n",
    "In the following we will assume that $L=8$ (as before) and $L_e=1$ (we only retain the dipole component of the external field).\n",
    "Given the epoch that you are in charge of, your task is to produce a model of the secular variation regularized **at the surface of the core** for that epoch, based on the trade-off curve methodology discussed before. **Note that $\\mathbf{D}$ should only act on the Gauss coefficients describing the internal field (the $\\dot{g}_\\ell^m$ and $\\dot{h}_\\ell^m$)**.\n",
    "\n",
    "You are expected to produce a number of diagnostics to describe this model. These diagnostics should include (without being limited to):\n",
    " - the distribution of the residuals (and a comparison with the distribution obtained when the external field is not included in the parameterization - is there a specific component for which the improvement is really substantial?)\n",
    " - a discussion of the presence of outliers in your dataset (as evidenced by the residual distribution), the observatory where the anomalous data originate from, etc.\n",
    " - a discussion of the map obtained at the surface of the core, concerning in particular the localization of the secular variation (ie places at the surface of the core where it would be stronger than in other places) \n",
    " - the spectrum of your preferred model at the surface of the core.\n"
   ]
  },
  {
   "cell_type": "code",
   "execution_count": null,
   "id": "394442f4-396c-4479-8d05-b8703e557b95",
   "metadata": {},
   "outputs": [],
   "source": [
    "#Your codes and answers below\n",
    "    "
   ]
  },
  {
   "cell_type": "code",
   "execution_count": null,
   "id": "372f3ff8-7f5b-46a1-abb1-5f5f2334c92a",
   "metadata": {},
   "outputs": [],
   "source": []
  }
 ],
 "metadata": {
  "kernelspec": {
   "display_name": "Python 3 (ipykernel)",
   "language": "python",
   "name": "python3"
  },
  "language_info": {
   "codemirror_mode": {
    "name": "ipython",
    "version": 3
   },
   "file_extension": ".py",
   "mimetype": "text/x-python",
   "name": "python",
   "nbconvert_exporter": "python",
   "pygments_lexer": "ipython3",
   "version": "3.9.19"
  }
 },
 "nbformat": 4,
 "nbformat_minor": 5
}
